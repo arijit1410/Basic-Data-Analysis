{
 "cells": [
  {
   "cell_type": "code",
   "execution_count": null,
   "metadata": {
    "_cell_guid": "8af6470e-add6-b096-e471-2d5148376430",
    "_uuid": "da72ae4f97e111fd9fe35dc79f6b4e8f560e1df8",
    "collapsed": true
   },
   "outputs": [],
   "source": [
    " \n",
    "\n",
    "import pandas as pd \n",
    "\n",
    "\n",
    "\n",
    "from subprocess import check_output\n",
    "print(check_output([\"ls\", \"../input\"]).decode(\"utf8\"))\n",
    "\n",
    "from IPython.display import display, HTML\n",
    "\n",
    "\n",
    "\n",
    "from matplotlib import pyplot as plt\n",
    "import matplotlib.patches as mpatches\n",
    "\n",
    "import seaborn as sns\n",
    "%matplotlib inline"
   ]
  },
  {
   "cell_type": "code",
   "execution_count": null,
   "metadata": {
    "_cell_guid": "174967d2-faa3-b3e3-c2ca-f890abe752bc",
    "_uuid": "d38865666a6c84e9e6c14e32b1c202361380e19d",
    "collapsed": true
   },
   "outputs": [],
   "source": [
    "vg_df = pd.read_csv('../input/Video_Games_Sales_as_at_22_Dec_2016.csv')\n",
    "vg_df.User_Score = vg_df.User_Score.convert_objects(convert_numeric=True)"
   ]
  },
  {
   "cell_type": "markdown",
   "metadata": {
    "_cell_guid": "c04e34ef-612f-5339-8594-bf8d317e5cc2",
    "_uuid": "23f2f40327821e6e05ac045d5ff5c83f71acda82"
   },
   "source": [
    "## Correlation"
   ]
  },
  {
   "cell_type": "code",
   "execution_count": null,
   "metadata": {
    "_cell_guid": "3197cd3d-caf7-16e2-da22-53c43186d4a6",
    "_uuid": "99624a8ad4cf9fa43059e908479bcd25d8e06c63",
    "collapsed": true
   },
   "outputs": [],
   "source": [
    "plt.figure(figsize=(12, 8))\n",
    "\n",
    "vg_corr = vg_df.corr()\n",
    "sns.heatmap(vg_corr, \n",
    "            xticklabels = vg_corr.columns.values,\n",
    "            yticklabels = vg_corr.columns.values,\n",
    "            annot = True);"
   ]
  },
  {
   "cell_type": "markdown",
   "metadata": {
    "_cell_guid": "eab0f01d-888c-8897-b888-ca0d57d3049e",
    "_uuid": "6add5d8defd09e53a5a92bb0b5af6b4b365f794c"
   },
   "source": [
    "## Crossplots"
   ]
  },
  {
   "cell_type": "code",
   "execution_count": null,
   "metadata": {
    "_cell_guid": "4d1d0591-4385-a868-6d40-d5a2f5d4057e",
    "_uuid": "da4ddab544574825b1a4be32ee999fed3361baf8",
    "collapsed": true
   },
   "outputs": [],
   "source": [
    "plt.figure(figsize=(14, 14))\n",
    "\n",
    "sns.pairplot(vg_df, diag_kind='kde');"
   ]
  },
  {
   "cell_type": "markdown",
   "metadata": {
    "_cell_guid": "b07dc3b7-ec89-52dd-c6d5-f16cda94fa45",
    "_uuid": "3a875a5a13e3cc67ff1a93cd6570c7bae0798cf4"
   },
   "source": [
    "# Evolution Over Time"
   ]
  },
  {
   "cell_type": "markdown",
   "metadata": {
    "_cell_guid": "61cc5fda-69bb-d64e-f15c-02ac3fa344a4",
    "_uuid": "451f281ba76de92fc6c01e2b519cc3149c26a364"
   },
   "source": [
    "## Sales vs Number of Releases"
   ]
  },
  {
   "cell_type": "code",
   "execution_count": null,
   "metadata": {
    "_cell_guid": "1545227e-95d5-bd81-c13c-360cb129102b",
    "_uuid": "421859ece78a5d4578ce5222e29286b235b625d5",
    "collapsed": true
   },
   "outputs": [],
   "source": [
    "#Group the entries by year, then get how many entries are there; i.e. the number of releases\n",
    "temp1 = vg_df.groupby(['Year_of_Release']).count()\n",
    "temp1 = temp1.reset_index()\n",
    "\n",
    "#Do the same, but sum the values to get the total values of everything by year.\n",
    "temp2 = vg_df.groupby(['Year_of_Release']).sum()\n",
    "temp2 = temp2.reset_index()\n",
    "\n",
    "#Normalize the data, i.e. zero mean and unit std. I did this to be able to compare the shapes of both graphs, since \n",
    "#they have different ranges\n",
    "normalised_df = pd.DataFrame()\n",
    "\n",
    "normalised_df['release_count'] = temp1['Name']\n",
    "normalised_df['global_sales'] = temp2['Global_Sales']\n",
    "normalised_df = (normalised_df - normalised_df.mean()) / normalised_df.std()#(normalised_df.max() - normalised_df.min()) \n",
    "normalised_df['year'] = temp1['Year_of_Release']\n",
    "\n",
    "\n",
    "#Plot\n",
    "plt.figure(figsize=(15, 9))\n",
    "ax = sns.pointplot(x = normalised_df.year, y = normalised_df.release_count, color = 'blue', label='Release Count')\n",
    "ax = sns.pointplot(x = normalised_df.year, y = normalised_df.global_sales, color = 'red', label='Global Sales')\n",
    "\n",
    "blue_patch = mpatches.Patch(color='blue', label='NUMBER OF RELEASES')\n",
    "red_patch = mpatches.Patch(color='red', label='GLOBAL SALES')\n",
    "plt.legend(handles=[blue_patch, red_patch], loc='upper left', fontsize = 16)\n",
    "\n",
    "plt.xticks(rotation=45);"
   ]
  },
  {
   "cell_type": "markdown",
   "metadata": {
    "_cell_guid": "1ccc39b9-4ef9-9401-462a-bdeaacf41348",
    "_uuid": "42ba28cde7b8e3ef7ac827d3b479569360eea31c"
   },
   "source": [
    "## Genre Sales Evolution"
   ]
  },
  {
   "cell_type": "code",
   "execution_count": null,
   "metadata": {
    "_cell_guid": "2bda2ebc-99fc-0b32-95dc-3526127c347a",
    "_uuid": "c08477b10f14f3d56855f465d08ad51b92bd61a0",
    "collapsed": true
   },
   "outputs": [],
   "source": [
    "fig = plt.figure(figsize=(10, 8))\n",
    "\n",
    "genre_sales_percentages_by_year = (vg_df.groupby(['Year_of_Release', 'Genre']).Global_Sales.sum())*(100)/vg_df.groupby(['Year_of_Release']).Global_Sales.sum()\n",
    "genre_sales_percentages_by_year.unstack().plot(kind='area',stacked=True, colormap= 'Spectral', grid=False, figsize=(13, 4))\n",
    "\n",
    "yearlySales = vg_df.groupby(['Year_of_Release','Genre']).Global_Sales.sum()\n",
    "yearlySales.unstack().plot(kind='area',stacked=True, colormap= 'Spectral', figsize=(13, 4) ) ;"
   ]
  },
  {
   "cell_type": "markdown",
   "metadata": {
    "_cell_guid": "c5b02b0b-c295-2366-b7ac-4bbc358b0354",
    "_uuid": "97744a1563ce8853505d2add0472b064d13b9f94"
   },
   "source": [
    "## Genre Total Sales"
   ]
  },
  {
   "cell_type": "code",
   "execution_count": null,
   "metadata": {
    "_cell_guid": "afbbedb3-2143-559e-23b0-b36d878e2e6b",
    "_uuid": "6f3f3b4c1149ded61b616456f7dd48f85e2f6add",
    "collapsed": true
   },
   "outputs": [],
   "source": [
    "x = vg_df.groupby(['Genre']).sum().copy()\n",
    "ax = x.Global_Sales.sort_values(ascending=False).plot(kind='bar', figsize=(13, 5));\n",
    "\n",
    "for p in ax.patches:\n",
    "    ax.annotate(str( round( p.get_height() ) ) + \"\\n\" + str(round( p.get_height() /89.170) )+ \"%\", \n",
    "                (p.get_x() * 1.007, p.get_height() * 0.75),\n",
    "                color='black')"
   ]
  },
  {
   "cell_type": "code",
   "execution_count": null,
   "metadata": {
    "_cell_guid": "146a808d-4e4a-d6dc-ccb1-d099694e3775",
    "_uuid": "daacfb5ec1c9b06a312965c85a6463f7ab717c59",
    "collapsed": true
   },
   "outputs": [],
   "source": [
    "\n",
    "genre_difference_metric = [vg_df.Genre.value_counts().index, vg_df.groupby(['Genre']).sum().Global_Sales.sort_values(ascending=False).index, vg_df.groupby(['Genre']).mean().Global_Sales.sort_values(ascending=False).index]\n",
    "\n",
    "\n",
    "genre_evolution_df = pd.DataFrame(columns=['genre', 'rank_type', 'rank'])\n",
    "\n",
    "#Populate the dataframe\n",
    "for metric in range(3):\n",
    "    for genre in range(len(genre_difference_metric[metric])):\n",
    "        genre_evolution_df = genre_evolution_df.append({'genre':genre_difference_metric[metric][genre], 'rank_type': metric, 'rank':genre},\n",
    "                                   ignore_index=True)\n",
    "\n",
    "        \n",
    "fig = plt.figure(figsize=(10, 8))\n",
    "ax = fig.add_subplot(111)\n",
    "\n",
    "sns.pointplot(x=genre_evolution_df.rank_type,\n",
    "              y=12-genre_evolution_df['rank'], \n",
    "              hue=genre_evolution_df.genre)\n",
    "\n",
    "for i in range(len(genre_difference_metric[0])):\n",
    "    ax.text(-0.75, 12-i, genre_difference_metric[0][i], fontsize=11)\n",
    "    ax.text(2.1, 12-i, genre_difference_metric[2][i], fontsize=11)\n",
    "    \n",
    "ax.set_xlim([-2,4])\n",
    "\n",
    "xs = [0.0, 1.0, 2.0]\n",
    "x_labels = ['total releases', 'total sales', 'average sales']\n",
    "plt.xticks(xs, x_labels, rotation='vertical')\n",
    "\n",
    "ax.set_xlabel('Sales Metric')\n",
    "\n",
    "ys = range(1,13)\n",
    "y_labels = ['12th', '11th', '10th', '9th', '8th', '7th', '6th', '5th', '4th', '3rd', '2nd', '1st']\n",
    "plt.yticks(ys, y_labels)\n",
    "ax.set_ylabel('Genre Rank')\n",
    "\n",
    "plt.show();"
   ]
  },
  {
   "cell_type": "markdown",
   "metadata": {
    "_cell_guid": "d3c4b28c-f457-1136-7933-cc2a9ad4cf92",
    "_uuid": "b57057baca7de3bd7ddd2904d7c08f52ce34ee46"
   },
   "source": [
    "## Rating Sales Evolution"
   ]
  },
  {
   "cell_type": "code",
   "execution_count": null,
   "metadata": {
    "_cell_guid": "80e1b2b6-bcf8-f112-183b-4eb75b14a636",
    "_uuid": "d32e00b1151f8e3b8c2b118213bc712bd3d323f0",
    "collapsed": true
   },
   "outputs": [],
   "source": [
    "rating_sales_percentages_by_year = (vg_df.groupby(['Year_of_Release', 'Rating']).Global_Sales.sum())*(100)/vg_df.groupby(['Year_of_Release']).Global_Sales.sum()\n",
    "rating_sales_percentages_by_year.unstack().plot(kind='area',stacked=True, colormap= 'Spectral', figsize=(13, 4));"
   ]
  },
  {
   "cell_type": "markdown",
   "metadata": {
    "_cell_guid": "5447ae9f-19ec-9407-2b99-c518aa8a4a81",
    "_uuid": "c576abe34e67f58e486251600ee62f1b77523715"
   },
   "source": [
    "# Scores"
   ]
  },
  {
   "cell_type": "markdown",
   "metadata": {
    "_cell_guid": "0115a79c-9a4c-b47c-99d3-2a6938ce38f5",
    "_uuid": "1a98d690238e64d6b56b9b8cba3aff0880583b79"
   },
   "source": [
    "## Critic vs User Scores"
   ]
  },
  {
   "cell_type": "code",
   "execution_count": null,
   "metadata": {
    "_cell_guid": "0cb52312-71ed-485d-dd3c-33ed05b88d7f",
    "_uuid": "28b969c7ec4364854bee84b275722e7d9b9d29de",
    "collapsed": true
   },
   "outputs": [],
   "source": [
    "g = sns.jointplot(x = 'Critic_Score', \n",
    "              y = 'User_Score',\n",
    "              data = vg_df, \n",
    "              kind = 'hex', \n",
    "              cmap= 'hot', \n",
    "              size=6)\n",
    "\n",
    "#http://stackoverflow.com/questions/33288830/how-to-plot-regression-line-on-hexbins-with-seaborn\n",
    "sns.regplot(vg_df.Critic_Score, vg_df.User_Score, ax=g.ax_joint, scatter=False, color='grey');"
   ]
  },
  {
   "cell_type": "markdown",
   "metadata": {
    "_cell_guid": "960be789-ec7b-d21d-defe-811dee9a6939",
    "_uuid": "24b3a08983a166d9e7f33ae609acbeebe40b64db"
   },
   "source": [
    "# Regional Sales"
   ]
  },
  {
   "cell_type": "markdown",
   "metadata": {
    "_cell_guid": "d7caf6f8-7e0d-3995-af46-ad16ad35b927",
    "_uuid": "84e3c0925b3a1a66af92a909af7cd2e687797b17"
   },
   "source": [
    "## Scatterplot between Global Sales and Regional Sales"
   ]
  },
  {
   "cell_type": "code",
   "execution_count": null,
   "metadata": {
    "_cell_guid": "45db7534-3588-b0ed-232f-7ce1a3b4852e",
    "_uuid": "b64747f0f125c95e4c5044c6e648fbc1ccdfbd74",
    "collapsed": true
   },
   "outputs": [],
   "source": [
    "sales_cols = ['NA_Sales', 'EU_Sales', 'JP_Sales', 'Other_Sales', 'Global_Sales']\n",
    "sales_normalised_df = vg_df[sales_cols].apply(lambda x: (x - x.mean()) / (x.max() - x.min()))\n",
    "\n",
    "sns.regplot(x = sales_normalised_df.Global_Sales, y = sales_normalised_df.NA_Sales,    marker=\"+\")\n",
    "sns.regplot(x = sales_normalised_df.Global_Sales, y = sales_normalised_df.EU_Sales,    marker=\".\")\n",
    "sns.regplot(x = sales_normalised_df.Global_Sales, y = sales_normalised_df.JP_Sales,    marker=\"x\")\n",
    "sns.regplot(x = sales_normalised_df.Global_Sales, y = sales_normalised_df.Other_Sales, marker=\"o\")\n",
    "\n",
    "plt.xlim(-0.05, 1.05)\n",
    "plt.ylim(-0.05, 1.05)\n",
    "fig.tight_layout();"
   ]
  },
  {
   "cell_type": "markdown",
   "metadata": {
    "_cell_guid": "c7cad6a9-2685-78bc-61af-02e215d6c3c0",
    "_uuid": "ba3cbce59d0f08603b6207a3ce843ba96a60335c"
   },
   "source": [
    "## Regional Sales of Genres"
   ]
  },
  {
   "cell_type": "code",
   "execution_count": null,
   "metadata": {
    "_cell_guid": "d5a70ff0-8111-d85c-9a4c-0fa582b3dd22",
    "_uuid": "fb4bcc2a031b7d87201eabc2d90a5484a3961e27",
    "collapsed": true
   },
   "outputs": [],
   "source": [
    "genre_geo_rankings = [vg_df.groupby('Genre').sum().unstack().NA_Sales.sort_values(ascending=False).index, \n",
    "                      vg_df.groupby('Genre').sum().unstack().EU_Sales.sort_values(ascending=False).index,\n",
    "                      vg_df.groupby('Genre').sum().unstack().Other_Sales.sort_values(ascending=False).index,\n",
    "                      vg_df.groupby('Genre').sum().unstack().JP_Sales.sort_values(ascending=False).index\n",
    "                      ]\n",
    "\n",
    "genre_geo_rank_df = pd.DataFrame(columns=['genre', 'rank_type', 'rank'])\n",
    "\n",
    "\n",
    "for region in range(4):\n",
    "    for genre in range(len(genre_geo_rankings[region])):\n",
    "        genre_geo_rank_df = genre_geo_rank_df.append({'genre':genre_geo_rankings[region][genre], 'rank_type': region, 'rank':genre},\n",
    "                                   ignore_index=True)\n",
    "\n",
    "fig = plt.figure(figsize=(10, 8))\n",
    "ax = fig.add_subplot(111)\n",
    "\n",
    "sns.pointplot(x=genre_geo_rank_df.rank_type,\n",
    "              y=12-genre_geo_rank_df['rank'], \n",
    "              hue=genre_geo_rank_df.genre)\n",
    "\n",
    "for i in range(len(genre_geo_rankings[0])):\n",
    "    ax.text(-0.9, 12-i, genre_geo_rankings[0][i], fontsize=11)\n",
    "    ax.text(3.2, 12-i, genre_geo_rankings[3][i], fontsize=11)\n",
    "    \n",
    "ax.set_xlim([-2,5])\n",
    "\n",
    "xs = [0.0, 1.0, 2.0, 3.0]\n",
    "x_labels = ['North America', 'E.U.', 'Rest of the World', 'Japan']\n",
    "plt.xticks(xs, x_labels, rotation='vertical')\n",
    "ax.set_xlabel('Region')\n",
    "\n",
    "ys = range(1,13)\n",
    "y_labels = ['12th', '11th', '10th', '9th', '8th', '7th', '6th', '5th', '4th', '3rd', '2nd', '1st']\n",
    "plt.yticks(ys, y_labels)\n",
    "ax.set_ylabel('Genre Rank')\n",
    "\n",
    "plt.show();"
   ]
  },
  {
   "cell_type": "markdown",
   "metadata": {
    "_cell_guid": "77d09ab3-50b2-0571-bb28-c5ef450bfb05",
    "_uuid": "5fe9f9dbd5df2c999e0a19cf4e21f057ac490fe6"
   },
   "source": [
    "I think there are a lot of insights from this graph. Mainly, the taste of gamers in Japan is really different than that of the three other regions. The remaining three regions are, more or less, similar; with maybe only platform and racing genres moving more than one position between the three regions."
   ]
  },
  {
   "cell_type": "markdown",
   "metadata": {
    "_cell_guid": "b18b16cf-918c-441d-07b3-06b95a40dbae",
    "_uuid": "086fc5154af80d7996d57ebcd347256d42ec77db"
   },
   "source": [
    "# Most Selling Platform Each Year"
   ]
  },
  {
   "cell_type": "markdown",
   "metadata": {
    "_cell_guid": "114e9ee4-fa07-fb74-1a58-9967952e166b",
    "_uuid": "77aa564961f539a29d50df5644ed250593fafcec"
   },
   "source": [
    "I will plot the top selling platform timeline. In the beginning the plot had all the platforms sales, but the result had too much information to digest, it was too clutered. The graph is followed by a table that describes the same thing, just for convenience"
   ]
  },
  {
   "cell_type": "code",
   "execution_count": null,
   "metadata": {
    "_cell_guid": "79f404c7-8a30-9316-9a34-444b4b4e51ef",
    "_uuid": "276350e66cb7906099af1f057615312958f3b93d",
    "collapsed": true
   },
   "outputs": [],
   "source": [
    "#temp is the sum of all variables for each platform by year\n",
    "temp = vg_df.groupby(['Year_of_Release', 'Platform']).sum().reset_index().groupby('Year_of_Release')\n",
    "\n",
    "platform_yearly_winner_df = pd.DataFrame()\n",
    "\n",
    "for year, group in temp:\n",
    "    current_year = temp.get_group(year)\n",
    "    this_year_max_sales = 0.0\n",
    "    current_year_winner = \"\"\n",
    "    row = {'year':\"\", 'winner':\"\", 'sales':\"\"}\n",
    "    for index, platform_data in current_year.iterrows():\n",
    "        if platform_data.Global_Sales > this_year_max_sales:\n",
    "            this_year_max_sales = platform_data.Global_Sales\n",
    "            current_year_winner = platform_data.Platform\n",
    "    \n",
    "    row['year'] = year\n",
    "    row['winner'] = current_year_winner\n",
    "    row['sales'] = this_year_max_sales\n",
    "    platform_yearly_winner_df = platform_yearly_winner_df.append(row, ignore_index=True)\n",
    "\n",
    "fig = plt.figure(figsize=(13, 4))\n",
    "\n",
    "g = sns.pointplot(x = platform_yearly_winner_df.year ,\n",
    "              y = platform_yearly_winner_df.sales , \n",
    "              hue = platform_yearly_winner_df.winner);\n",
    "\n",
    "#http://stackoverflow.com/questions/26540035/rotate-label-text-in-seaborn-factorplot\n",
    "g.set_xticklabels(g.get_xticklabels(), rotation=90);"
   ]
  },
  {
   "cell_type": "code",
   "execution_count": null,
   "metadata": {
    "_cell_guid": "1c41f2bf-bfc6-1f2d-bf15-827a1fa5b374",
    "_uuid": "fe71f3ad99a80e79d8ec8feb98f9dea1a58ec0e5",
    "collapsed": true
   },
   "outputs": [],
   "source": [
    "platform_yearly_winner_df.set_index('year', inplace=True)\n",
    "HTML(platform_yearly_winner_df.to_html())"
   ]
  }
 ],
 "metadata": {
  "_change_revision": 0,
  "_is_fork": false,
  "kernelspec": {
   "display_name": "Python 3",
   "language": "python",
   "name": "python3"
  },
  "language_info": {
   "codemirror_mode": {
    "name": "ipython",
    "version": 3
   },
   "file_extension": ".py",
   "mimetype": "text/x-python",
   "name": "python",
   "nbconvert_exporter": "python",
   "pygments_lexer": "ipython3",
   "version": "3.5.2"
  }
 },
 "nbformat": 4,
 "nbformat_minor": 1
}
